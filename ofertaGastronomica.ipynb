{
 "cells": [
  {
   "cell_type": "code",
   "execution_count": 2,
   "metadata": {},
   "outputs": [],
   "source": [
    "import pymysql"
   ]
  },
  {
   "cell_type": "code",
   "execution_count": 3,
   "metadata": {},
   "outputs": [],
   "source": [
    "conexion = pymysql.connect(\n",
    "\thost = 'localhost',     # o con el IP ?\n",
    "\tuser = 'root',          # en una empresa es el que nos den\n",
    "\tpasswd = 'Qaz12.89',    # el port no se suele colocar\n",
    "\tdb = 'henry'\n",
    ")\n",
    "\n",
    "# OTRA FORMA (se pueden poner en otro orden, y usar palabras completas):\n",
    "# conexion = pymysql.connect(\n",
    "#\thost = 'localhost', \t# servidor local\n",
    "#\tdatabase = 'henry',\t    # nombre base de datos\n",
    "#\tuser = 'root',\t\t    # nombre del usuario\n",
    "#\tpassword = 'Qaz12.89'\t# password del usuario\n",
    "# )\n"
   ]
  },
  {
   "cell_type": "code",
   "execution_count": null,
   "metadata": {},
   "outputs": [],
   "source": []
  },
  {
   "cell_type": "code",
   "execution_count": 4,
   "metadata": {},
   "outputs": [],
   "source": [
    "cursor = conexion.cursor()"
   ]
  },
  {
   "cell_type": "code",
   "execution_count": 24,
   "metadata": {},
   "outputs": [
    {
     "name": "stdout",
     "output_type": "stream",
     "text": [
      "(1, '25456879', 'Antonio', 'Barrios', datetime.date(1981, 7, 9), datetime.date(2019, 11, 8))\n",
      "(2, '28456321', 'Lucia', 'Fernandez', datetime.date(1992, 5, 25), datetime.date(2019, 11, 8))\n",
      "(3, '27198354', 'Leo', 'Paris', datetime.date(1985, 6, 20), datetime.date(2021, 8, 15))\n",
      "(4, '36987520', 'Agustín', 'Casagne', datetime.date(1988, 8, 17), datetime.date(2021, 8, 15))\n",
      "(5, '33456215', 'Franco', 'Caseros', datetime.date(1995, 5, 1), datetime.date(2021, 8, 15))\n",
      "(6, '30521369', 'Dario', 'Ramirez', datetime.date(1989, 7, 20), datetime.date(2021, 12, 1))\n",
      "(7, '28856789', 'Agustina', 'Medina', datetime.date(1991, 3, 8), datetime.date(2021, 12, 1))\n",
      "(8, '33128987', 'Jorge', 'Perez', datetime.date(1988, 2, 19), datetime.date(2021, 12, 1))\n"
     ]
    }
   ],
   "source": [
    "cursor.execute('SELECT * FROM instructor')\n",
    "for elemento in cursor:\n",
    "\tprint(elemento)"
   ]
  },
  {
   "cell_type": "code",
   "execution_count": 25,
   "metadata": {},
   "outputs": [
    {
     "name": "stdout",
     "output_type": "stream",
     "text": [
      "(1235, 20)\n",
      "(1236, 20)\n",
      "(1237, 20)\n",
      "(1238, 20)\n",
      "(1239, 20)\n",
      "(1240, 20)\n",
      "(1241, 20)\n",
      "(1242, 20)\n",
      "(1243, 20)\n"
     ]
    }
   ],
   "source": [
    "cursor.execute(\"\"\"SELECT idCohorte, COUNT(idAlumno) 'cantidad alumnos'\n",
    "                    FROM alumno\n",
    "                    GROUP BY idCohorte;\"\"\")\n",
    "for alumno in cursor:\n",
    "\tprint(alumno)\n",
    "\t\n"
   ]
  },
  {
   "cell_type": "code",
   "execution_count": null,
   "metadata": {},
   "outputs": [],
   "source": []
  }
 ],
 "metadata": {
  "kernelspec": {
   "display_name": "Python 3",
   "language": "python",
   "name": "python3"
  },
  "language_info": {
   "codemirror_mode": {
    "name": "ipython",
    "version": 3
   },
   "file_extension": ".py",
   "mimetype": "text/x-python",
   "name": "python",
   "nbconvert_exporter": "python",
   "pygments_lexer": "ipython3",
   "version": "3.11.5"
  }
 },
 "nbformat": 4,
 "nbformat_minor": 2
}
